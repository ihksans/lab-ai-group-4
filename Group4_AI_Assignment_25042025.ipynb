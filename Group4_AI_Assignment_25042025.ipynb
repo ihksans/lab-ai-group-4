{
  "nbformat": 4,
  "nbformat_minor": 0,
  "metadata": {
    "colab": {
      "provenance": [],
      "authorship_tag": "ABX9TyML5sEie+bV+Q1QpX0CdHOG",
      "include_colab_link": true
    },
    "kernelspec": {
      "name": "python3",
      "display_name": "Python 3"
    },
    "language_info": {
      "name": "python"
    }
  },
  "cells": [
    {
      "cell_type": "markdown",
      "metadata": {
        "id": "view-in-github",
        "colab_type": "text"
      },
      "source": [
        "<a href=\"https://colab.research.google.com/github/ihksans/lab-ai-group-4/blob/master/Group4_AI_Assignment_25042025.ipynb\" target=\"_parent\"><img src=\"https://colab.research.google.com/assets/colab-badge.svg\" alt=\"Open In Colab\"/></a>"
      ]
    },
    {
      "cell_type": "markdown",
      "source": [
        "Tugas Assigment Pertemuan 25-04-2025\n",
        "- IKHSAN SETIAWAN (2802544545)\n",
        "- AZHAR BANI RASHIF (2802544551)"
      ],
      "metadata": {
        "id": "GAcH4GpSCjXO"
      }
    },
    {
      "cell_type": "code",
      "source": [
        "!pip install datasets\n"
      ],
      "metadata": {
        "colab": {
          "base_uri": "https://localhost:8080/"
        },
        "id": "wLC4ut0-7l6O",
        "outputId": "d7c01ee1-a0a6-4592-ddb1-36c268340610"
      },
      "execution_count": 2,
      "outputs": [
        {
          "output_type": "stream",
          "name": "stdout",
          "text": [
            "Collecting datasets\n",
            "  Downloading datasets-3.5.0-py3-none-any.whl.metadata (19 kB)\n",
            "Requirement already satisfied: filelock in /usr/local/lib/python3.11/dist-packages (from datasets) (3.18.0)\n",
            "Requirement already satisfied: numpy>=1.17 in /usr/local/lib/python3.11/dist-packages (from datasets) (2.0.2)\n",
            "Requirement already satisfied: pyarrow>=15.0.0 in /usr/local/lib/python3.11/dist-packages (from datasets) (18.1.0)\n",
            "Collecting dill<0.3.9,>=0.3.0 (from datasets)\n",
            "  Downloading dill-0.3.8-py3-none-any.whl.metadata (10 kB)\n",
            "Requirement already satisfied: pandas in /usr/local/lib/python3.11/dist-packages (from datasets) (2.2.2)\n",
            "Requirement already satisfied: requests>=2.32.2 in /usr/local/lib/python3.11/dist-packages (from datasets) (2.32.3)\n",
            "Requirement already satisfied: tqdm>=4.66.3 in /usr/local/lib/python3.11/dist-packages (from datasets) (4.67.1)\n",
            "Collecting xxhash (from datasets)\n",
            "  Downloading xxhash-3.5.0-cp311-cp311-manylinux_2_17_x86_64.manylinux2014_x86_64.whl.metadata (12 kB)\n",
            "Collecting multiprocess<0.70.17 (from datasets)\n",
            "  Downloading multiprocess-0.70.16-py311-none-any.whl.metadata (7.2 kB)\n",
            "Collecting fsspec<=2024.12.0,>=2023.1.0 (from fsspec[http]<=2024.12.0,>=2023.1.0->datasets)\n",
            "  Downloading fsspec-2024.12.0-py3-none-any.whl.metadata (11 kB)\n",
            "Requirement already satisfied: aiohttp in /usr/local/lib/python3.11/dist-packages (from datasets) (3.11.15)\n",
            "Requirement already satisfied: huggingface-hub>=0.24.0 in /usr/local/lib/python3.11/dist-packages (from datasets) (0.30.2)\n",
            "Requirement already satisfied: packaging in /usr/local/lib/python3.11/dist-packages (from datasets) (24.2)\n",
            "Requirement already satisfied: pyyaml>=5.1 in /usr/local/lib/python3.11/dist-packages (from datasets) (6.0.2)\n",
            "Requirement already satisfied: aiohappyeyeballs>=2.3.0 in /usr/local/lib/python3.11/dist-packages (from aiohttp->datasets) (2.6.1)\n",
            "Requirement already satisfied: aiosignal>=1.1.2 in /usr/local/lib/python3.11/dist-packages (from aiohttp->datasets) (1.3.2)\n",
            "Requirement already satisfied: attrs>=17.3.0 in /usr/local/lib/python3.11/dist-packages (from aiohttp->datasets) (25.3.0)\n",
            "Requirement already satisfied: frozenlist>=1.1.1 in /usr/local/lib/python3.11/dist-packages (from aiohttp->datasets) (1.6.0)\n",
            "Requirement already satisfied: multidict<7.0,>=4.5 in /usr/local/lib/python3.11/dist-packages (from aiohttp->datasets) (6.4.3)\n",
            "Requirement already satisfied: propcache>=0.2.0 in /usr/local/lib/python3.11/dist-packages (from aiohttp->datasets) (0.3.1)\n",
            "Requirement already satisfied: yarl<2.0,>=1.17.0 in /usr/local/lib/python3.11/dist-packages (from aiohttp->datasets) (1.20.0)\n",
            "Requirement already satisfied: typing-extensions>=3.7.4.3 in /usr/local/lib/python3.11/dist-packages (from huggingface-hub>=0.24.0->datasets) (4.13.2)\n",
            "Requirement already satisfied: charset-normalizer<4,>=2 in /usr/local/lib/python3.11/dist-packages (from requests>=2.32.2->datasets) (3.4.1)\n",
            "Requirement already satisfied: idna<4,>=2.5 in /usr/local/lib/python3.11/dist-packages (from requests>=2.32.2->datasets) (3.10)\n",
            "Requirement already satisfied: urllib3<3,>=1.21.1 in /usr/local/lib/python3.11/dist-packages (from requests>=2.32.2->datasets) (2.3.0)\n",
            "Requirement already satisfied: certifi>=2017.4.17 in /usr/local/lib/python3.11/dist-packages (from requests>=2.32.2->datasets) (2025.1.31)\n",
            "Requirement already satisfied: python-dateutil>=2.8.2 in /usr/local/lib/python3.11/dist-packages (from pandas->datasets) (2.8.2)\n",
            "Requirement already satisfied: pytz>=2020.1 in /usr/local/lib/python3.11/dist-packages (from pandas->datasets) (2025.2)\n",
            "Requirement already satisfied: tzdata>=2022.7 in /usr/local/lib/python3.11/dist-packages (from pandas->datasets) (2025.2)\n",
            "Requirement already satisfied: six>=1.5 in /usr/local/lib/python3.11/dist-packages (from python-dateutil>=2.8.2->pandas->datasets) (1.17.0)\n",
            "Downloading datasets-3.5.0-py3-none-any.whl (491 kB)\n",
            "\u001b[2K   \u001b[90m━━━━━━━━━━━━━━━━━━━━━━━━━━━━━━━━━━━━━━━━\u001b[0m \u001b[32m491.2/491.2 kB\u001b[0m \u001b[31m11.4 MB/s\u001b[0m eta \u001b[36m0:00:00\u001b[0m\n",
            "\u001b[?25hDownloading dill-0.3.8-py3-none-any.whl (116 kB)\n",
            "\u001b[2K   \u001b[90m━━━━━━━━━━━━━━━━━━━━━━━━━━━━━━━━━━━━━━━━\u001b[0m \u001b[32m116.3/116.3 kB\u001b[0m \u001b[31m7.6 MB/s\u001b[0m eta \u001b[36m0:00:00\u001b[0m\n",
            "\u001b[?25hDownloading fsspec-2024.12.0-py3-none-any.whl (183 kB)\n",
            "\u001b[2K   \u001b[90m━━━━━━━━━━━━━━━━━━━━━━━━━━━━━━━━━━━━━━━━\u001b[0m \u001b[32m183.9/183.9 kB\u001b[0m \u001b[31m13.4 MB/s\u001b[0m eta \u001b[36m0:00:00\u001b[0m\n",
            "\u001b[?25hDownloading multiprocess-0.70.16-py311-none-any.whl (143 kB)\n",
            "\u001b[2K   \u001b[90m━━━━━━━━━━━━━━━━━━━━━━━━━━━━━━━━━━━━━━━━\u001b[0m \u001b[32m143.5/143.5 kB\u001b[0m \u001b[31m11.2 MB/s\u001b[0m eta \u001b[36m0:00:00\u001b[0m\n",
            "\u001b[?25hDownloading xxhash-3.5.0-cp311-cp311-manylinux_2_17_x86_64.manylinux2014_x86_64.whl (194 kB)\n",
            "\u001b[2K   \u001b[90m━━━━━━━━━━━━━━━━━━━━━━━━━━━━━━━━━━━━━━━━\u001b[0m \u001b[32m194.8/194.8 kB\u001b[0m \u001b[31m11.9 MB/s\u001b[0m eta \u001b[36m0:00:00\u001b[0m\n",
            "\u001b[?25hInstalling collected packages: xxhash, fsspec, dill, multiprocess, datasets\n",
            "  Attempting uninstall: fsspec\n",
            "    Found existing installation: fsspec 2025.3.2\n",
            "    Uninstalling fsspec-2025.3.2:\n",
            "      Successfully uninstalled fsspec-2025.3.2\n",
            "\u001b[31mERROR: pip's dependency resolver does not currently take into account all the packages that are installed. This behaviour is the source of the following dependency conflicts.\n",
            "gcsfs 2025.3.2 requires fsspec==2025.3.2, but you have fsspec 2024.12.0 which is incompatible.\n",
            "torch 2.6.0+cu124 requires nvidia-cublas-cu12==12.4.5.8; platform_system == \"Linux\" and platform_machine == \"x86_64\", but you have nvidia-cublas-cu12 12.5.3.2 which is incompatible.\n",
            "torch 2.6.0+cu124 requires nvidia-cuda-cupti-cu12==12.4.127; platform_system == \"Linux\" and platform_machine == \"x86_64\", but you have nvidia-cuda-cupti-cu12 12.5.82 which is incompatible.\n",
            "torch 2.6.0+cu124 requires nvidia-cuda-nvrtc-cu12==12.4.127; platform_system == \"Linux\" and platform_machine == \"x86_64\", but you have nvidia-cuda-nvrtc-cu12 12.5.82 which is incompatible.\n",
            "torch 2.6.0+cu124 requires nvidia-cuda-runtime-cu12==12.4.127; platform_system == \"Linux\" and platform_machine == \"x86_64\", but you have nvidia-cuda-runtime-cu12 12.5.82 which is incompatible.\n",
            "torch 2.6.0+cu124 requires nvidia-cudnn-cu12==9.1.0.70; platform_system == \"Linux\" and platform_machine == \"x86_64\", but you have nvidia-cudnn-cu12 9.3.0.75 which is incompatible.\n",
            "torch 2.6.0+cu124 requires nvidia-cufft-cu12==11.2.1.3; platform_system == \"Linux\" and platform_machine == \"x86_64\", but you have nvidia-cufft-cu12 11.2.3.61 which is incompatible.\n",
            "torch 2.6.0+cu124 requires nvidia-curand-cu12==10.3.5.147; platform_system == \"Linux\" and platform_machine == \"x86_64\", but you have nvidia-curand-cu12 10.3.6.82 which is incompatible.\n",
            "torch 2.6.0+cu124 requires nvidia-cusolver-cu12==11.6.1.9; platform_system == \"Linux\" and platform_machine == \"x86_64\", but you have nvidia-cusolver-cu12 11.6.3.83 which is incompatible.\n",
            "torch 2.6.0+cu124 requires nvidia-cusparse-cu12==12.3.1.170; platform_system == \"Linux\" and platform_machine == \"x86_64\", but you have nvidia-cusparse-cu12 12.5.1.3 which is incompatible.\n",
            "torch 2.6.0+cu124 requires nvidia-nvjitlink-cu12==12.4.127; platform_system == \"Linux\" and platform_machine == \"x86_64\", but you have nvidia-nvjitlink-cu12 12.5.82 which is incompatible.\u001b[0m\u001b[31m\n",
            "\u001b[0mSuccessfully installed datasets-3.5.0 dill-0.3.8 fsspec-2024.12.0 multiprocess-0.70.16 xxhash-3.5.0\n"
          ]
        }
      ]
    },
    {
      "cell_type": "code",
      "execution_count": 3,
      "metadata": {
        "colab": {
          "base_uri": "https://localhost:8080/",
          "height": 607,
          "referenced_widgets": [
            "aebb171068eb48949549a7f9d1d89a75",
            "a99e6c50d8f440e38f766a0e446df303",
            "5e4efa2509c544b3b667eaf6bc00d7a9",
            "157f79119f8e400eb37ee0cdaf949361",
            "8efff5b6f2d74417a1d0eb8cff5faa6f",
            "cc53bfa81e594a7a8ed3780a601b297f",
            "a1404abed9484fc1b96406738dd27de5",
            "2919c5fd48b2432c8fa293b19c05fe50",
            "cd11aa6067ba44768c596462ffd2f6b1",
            "dd399de13de147eb9adbeecbdf782038",
            "710b733b560747aa96201c781b4a4292",
            "61237ffb225c4c4ba84c9e0d6de748d3",
            "37ef40ab9c094613b6237a989e9ca4ea",
            "5cff0ed5945e4fbbbdebdd276e103dcb",
            "4546994a319e47089fb97527e9d4e9d7",
            "8fc85a5159f84626a69f32c2ab0f9fa1",
            "c80e5217d3f04a36890474ab05a22967",
            "09112a611182448c93e8654db507e689",
            "cd70bf7f506e4ea28ebd14071decd1e4",
            "6a9f9d374649471f9ffb406f4a0e3ce3",
            "a4f6c282270a40efab99e63ac535bfec",
            "0cb9726e856847ccb82bfad593d90b7a",
            "8699fba7868c410891d10b3fd1827c9b",
            "bb3f4f50ee67443eaecfc58ca10e925e",
            "32f70697eb0b4a73b27989bfd4e105f4",
            "e728e65edd1a4a84a5282df89b8f3ec0",
            "ae3bdd561ff8489eb8e65c3b33a65184",
            "cf01a06a478545c1aa1144b167de322b",
            "7e0656ba555b4cb2975a98f7dd591273",
            "caad17c134c5415e8e2173fa4c7cb54e",
            "d63ea511dc894a498840aa7bc40d179e",
            "4b0b86cfa83f44b0b188dffafc2f60f4",
            "3e45e4cbb3ff4d8c95655b9808c1bf53",
            "d850db945b654e4faed0a786a1d725f7",
            "c9107fc3e3d7417e9d9762844791f9ec",
            "de7ff7bb4209480db592e507df67b18a",
            "b87911db0ccc4ccd8877c00f5161cfa0",
            "37ee473d4dbe455d87bba2c1855b7227",
            "86f914927dd84fcaa4ceceda992dec54",
            "4c201600bb614a5f9253d2e8a3d7a015",
            "ddc2cc3fd1944a128ea3a78ca44ffafc",
            "0b367ccb70414bd2a6ef7af2b5baf211",
            "13f6b271372b4ffa8aea4df20d51bb24",
            "02b5cc739d6d45348b9dd7c8802ecbdc",
            "3a90d6f4059945d4b8748f31d0cdb009",
            "5def4a6aec304911ab27720c5181d032",
            "a10bf00b2117447780374a3ca5177370",
            "f45f11f3ff934f3e8cbaf257fdd5910c",
            "22f0d24585e2427687d48304b860a647",
            "98f5e6fff7104913a05e0aafbfbb34b2",
            "f7922c6aab4d446fa13febe637242c28",
            "f08439af327b499a877e0140f0cbb744",
            "6d3a8a0739dd4eb8a0b82fe3af14f8cf",
            "f57785c6b9a946288d3bea42e17e257f",
            "184c7b9c75cf422f9362ebf33811d129",
            "1bab06220f404edcb9c0d2ae0626889f",
            "e8f4f58c4bd847f6bccee0003f863b8e",
            "26db7ca4cad843e5b61e68b404a38370",
            "f5330139ed5d494bb0513cfeef4fa722",
            "6537f79b79cd4113aa5dc3eee873690c",
            "e04549593c1047ae8347762d876d9722",
            "bd39fc0249354df086a7f70b85ef3fb0",
            "d6287c00546145f5b9609676729838f9",
            "c502b346226e470a9f3ec4e60795d57d",
            "86222722eb6746cebc0052e36e473910",
            "0a20639e6b4946a084a9f6dd4fcf992f",
            "1d38a1e914c84ce59ae88f3df7e9c0c5",
            "6bd2717ec0df47baac29243380b7da30",
            "900bc86a1d8749c9abc785c37a92715d",
            "578f766f200a45d9be33272c37110f2d",
            "77fc4d4350fa4240bb05ce8f583ca2cc",
            "c120bb41bf5d4fa0bd601b7dd38c59f7",
            "efeb6a9295c64099a85e7ded799606ba",
            "5d7be4c8ddf04e5c8ec32935f4491e86",
            "75cef7c6de424543bf75e149ec156ecd",
            "8cebc62910864e21b91a04dea18b4095",
            "ef5651e394494e28a3cd399cc8053927",
            "d26238de01bf4dd7a122255b96acda4b",
            "1d830994f90247fc91f2d465f4546f3a",
            "0d677d55ea8f4dbcb499f6fc3ea5c894",
            "be04c9479ea649e3b3acc47326c2eb75",
            "580e9aedf4fc4e608e55fd14095eac52",
            "b8d95d01978743e88df33a7afe950966",
            "aec8fa090e3740eaa4767d213f9c5ddb",
            "454c4d1001f0402a866f2a717b9ef696",
            "5f07ce195abf498490b331a56fe261fa",
            "1d1288f29e074b649d7f001296b1b921",
            "f26911b8d94645a291639bfe4589b43e",
            "41c8e6baa20a418a812f12aa64322044",
            "7750ef15c6e94bbb8abcb98ac4bbed33",
            "3a426fde6df4423aa66361f26e40ec2b",
            "1bf1c6b6ada64f4bb8e600e38ae277d2",
            "f7aeb130e4fa4ca1a30998e909736736",
            "2aeaa18e3ddf4cf6b1026778ad587c9f",
            "368aec8ca4374ef2a146b5c94fa13ce8",
            "ea80875f45af4dd597b50132c53d8d61",
            "825ba5703b2d457c95c211633bdf5520",
            "0d607b934d6c475e8b07840225843536",
            "a333e98d01384386b5c37c9e6b772465",
            "f72b8f16eeca465ea5ab05266f4fda53",
            "ba43a1d830ef4c1bbf3915a93d8e6d75",
            "5b98e5246d9d4febb3c5e9f1029a0bc9",
            "73429a2f611b496aaf507146781f9eef",
            "be5e29b3d2974e14bc2012a984e8e0b0",
            "eb5ab7f5850948b2b7263755ed2a23e4",
            "388c24e26f1c4f94b7b23e06af775614",
            "4d971ea039664c4780e2c1a30d6c4a8c",
            "8d7a0a1f740b4c5a9a16f16a2f9eacee",
            "118d8cfe57ff43d8a39a4533f0ca986f",
            "2ab2dc4f8bd04b429cfae22dcaf671a5",
            "49ae5f680ea34e8cb437c152912b7898",
            "5afc8ef7fd774809bb6838a3a78a6509",
            "53f5c906bc224ed1b3246bdd3c534cd5",
            "5d4b67aaa8d94623bd8fb9aaa82ea9fc",
            "23d336a4879e428c9977d770f981d732",
            "f40255857b9a45bf942545008666c263",
            "9783e4ec87b047ab819b22c456a3f8e0",
            "6acc258f3421408286b436b62be67aca",
            "8e241c6d980340a39f9863683f954346",
            "258a896369364923be295a72da8128ef",
            "7fe3220bb5d545a4b29803bd97d9d2d2",
            "10c09ceaace64b9c8e1fb1140ea3e662",
            "7daa879d24f349f894513401207fbe91",
            "d8c5d55d5c434d229bf191664ea9ec93",
            "672c23d0ea9a412480990081b3534b08",
            "50c06837857249718c0dd18f6a530235",
            "9d545c37f4154e29a21b7f2337f00b42",
            "f3f795c8e8734096b3b6aa95ffe76182",
            "433f4618c3b746c4af528dab991556a4",
            "cf44505bf84d4e79a4b4c2117a4ea1a3",
            "426618e410fa477095013386a21f6202",
            "494dede97de341148abaea941e31a429",
            "f42c22c0e7d54f06819e4d312c6db6d9",
            "46bd448295864210b382a9a41fb354f8",
            "41a20ce99bfc49b7b21efb028c962254",
            "9f057d69a51a456481f6109ef922665e",
            "de668602362746b883eb009afc4bc734",
            "60c529b1947849b6b6f7b330770aafd8",
            "acfe395c6d4947f29ed97a5d50103880",
            "d8322d26efdd4e539c0f0386bf0c1b4a",
            "fa2f8d506e37449fb4203dca6fe3a0d1",
            "dc68aa36acaf4cfd8f38093cddf62026",
            "39330ebad4064103ab780f071584a086"
          ]
        },
        "id": "_AB4sKGk7jRL",
        "outputId": "98c02325-6f60-446f-ee4e-6d22561d9a80"
      },
      "outputs": [
        {
          "output_type": "stream",
          "name": "stderr",
          "text": [
            "/usr/local/lib/python3.11/dist-packages/huggingface_hub/utils/_auth.py:94: UserWarning: \n",
            "The secret `HF_TOKEN` does not exist in your Colab secrets.\n",
            "To authenticate with the Hugging Face Hub, create a token in your settings tab (https://huggingface.co/settings/tokens), set it as secret in your Google Colab and restart your session.\n",
            "You will be able to reuse this secret in all of your notebooks.\n",
            "Please note that authentication is recommended but still optional to access public models or datasets.\n",
            "  warnings.warn(\n"
          ]
        },
        {
          "output_type": "display_data",
          "data": {
            "text/plain": [
              "README.md:   0%|          | 0.00/32.5k [00:00<?, ?B/s]"
            ],
            "application/vnd.jupyter.widget-view+json": {
              "version_major": 2,
              "version_minor": 0,
              "model_id": "aebb171068eb48949549a7f9d1d89a75"
            }
          },
          "metadata": {}
        },
        {
          "output_type": "display_data",
          "data": {
            "text/plain": [
              "indonlu.py:   0%|          | 0.00/32.7k [00:00<?, ?B/s]"
            ],
            "application/vnd.jupyter.widget-view+json": {
              "version_major": 2,
              "version_minor": 0,
              "model_id": "61237ffb225c4c4ba84c9e0d6de748d3"
            }
          },
          "metadata": {}
        },
        {
          "output_type": "display_data",
          "data": {
            "text/plain": [
              "dataset_infos.json:   0%|          | 0.00/38.7k [00:00<?, ?B/s]"
            ],
            "application/vnd.jupyter.widget-view+json": {
              "version_major": 2,
              "version_minor": 0,
              "model_id": "8699fba7868c410891d10b3fd1827c9b"
            }
          },
          "metadata": {}
        },
        {
          "name": "stdout",
          "output_type": "stream",
          "text": [
            "The repository for indonlp/indonlu contains custom code which must be executed to correctly load the dataset. You can inspect the repository content at https://hf.co/datasets/indonlp/indonlu.\n",
            "You can avoid this prompt in future by passing the argument `trust_remote_code=True`.\n",
            "\n",
            "Do you wish to run the custom code? [y/N] y\n"
          ]
        },
        {
          "output_type": "display_data",
          "data": {
            "text/plain": [
              "Downloading data:   0%|          | 0.00/2.19M [00:00<?, ?B/s]"
            ],
            "application/vnd.jupyter.widget-view+json": {
              "version_major": 2,
              "version_minor": 0,
              "model_id": "d850db945b654e4faed0a786a1d725f7"
            }
          },
          "metadata": {}
        },
        {
          "output_type": "display_data",
          "data": {
            "text/plain": [
              "Downloading data:   0%|          | 0.00/247k [00:00<?, ?B/s]"
            ],
            "application/vnd.jupyter.widget-view+json": {
              "version_major": 2,
              "version_minor": 0,
              "model_id": "3a90d6f4059945d4b8748f31d0cdb009"
            }
          },
          "metadata": {}
        },
        {
          "output_type": "display_data",
          "data": {
            "text/plain": [
              "Downloading data:   0%|          | 0.00/75.9k [00:00<?, ?B/s]"
            ],
            "application/vnd.jupyter.widget-view+json": {
              "version_major": 2,
              "version_minor": 0,
              "model_id": "1bab06220f404edcb9c0d2ae0626889f"
            }
          },
          "metadata": {}
        },
        {
          "output_type": "display_data",
          "data": {
            "text/plain": [
              "Generating train split:   0%|          | 0/11000 [00:00<?, ? examples/s]"
            ],
            "application/vnd.jupyter.widget-view+json": {
              "version_major": 2,
              "version_minor": 0,
              "model_id": "1d38a1e914c84ce59ae88f3df7e9c0c5"
            }
          },
          "metadata": {}
        },
        {
          "output_type": "display_data",
          "data": {
            "text/plain": [
              "Generating validation split:   0%|          | 0/1260 [00:00<?, ? examples/s]"
            ],
            "application/vnd.jupyter.widget-view+json": {
              "version_major": 2,
              "version_minor": 0,
              "model_id": "d26238de01bf4dd7a122255b96acda4b"
            }
          },
          "metadata": {}
        },
        {
          "output_type": "display_data",
          "data": {
            "text/plain": [
              "Generating test split:   0%|          | 0/500 [00:00<?, ? examples/s]"
            ],
            "application/vnd.jupyter.widget-view+json": {
              "version_major": 2,
              "version_minor": 0,
              "model_id": "41c8e6baa20a418a812f12aa64322044"
            }
          },
          "metadata": {}
        },
        {
          "output_type": "display_data",
          "data": {
            "text/plain": [
              "tokenizer_config.json:   0%|          | 0.00/2.00 [00:00<?, ?B/s]"
            ],
            "application/vnd.jupyter.widget-view+json": {
              "version_major": 2,
              "version_minor": 0,
              "model_id": "f72b8f16eeca465ea5ab05266f4fda53"
            }
          },
          "metadata": {}
        },
        {
          "output_type": "display_data",
          "data": {
            "text/plain": [
              "config.json:   0%|          | 0.00/1.53k [00:00<?, ?B/s]"
            ],
            "application/vnd.jupyter.widget-view+json": {
              "version_major": 2,
              "version_minor": 0,
              "model_id": "49ae5f680ea34e8cb437c152912b7898"
            }
          },
          "metadata": {}
        },
        {
          "output_type": "display_data",
          "data": {
            "text/plain": [
              "vocab.txt:   0%|          | 0.00/229k [00:00<?, ?B/s]"
            ],
            "application/vnd.jupyter.widget-view+json": {
              "version_major": 2,
              "version_minor": 0,
              "model_id": "10c09ceaace64b9c8e1fb1140ea3e662"
            }
          },
          "metadata": {}
        },
        {
          "output_type": "display_data",
          "data": {
            "text/plain": [
              "special_tokens_map.json:   0%|          | 0.00/112 [00:00<?, ?B/s]"
            ],
            "application/vnd.jupyter.widget-view+json": {
              "version_major": 2,
              "version_minor": 0,
              "model_id": "f42c22c0e7d54f06819e4d312c6db6d9"
            }
          },
          "metadata": {}
        }
      ],
      "source": [
        "import torch\n",
        "from datasets import load_dataset\n",
        "from transformers import AutoTokenizer, AutoModelForSequenceClassification, TrainingArguments, Trainer\n",
        "from sklearn.metrics import accuracy_score, precision_recall_fscore_support\n",
        "\n",
        "# Load dataset sentimen Indonesia (IndoNLU - SMSA)\n",
        "dataset = load_dataset(\"indonlp/indonlu\", \"smsa\")\n",
        "\n",
        "# Load tokenizer IndoBERT\n",
        "tokenizer = AutoTokenizer.from_pretrained(\"indobenchmark/indobert-base-p1\")\n"
      ]
    },
    {
      "cell_type": "markdown",
      "source": [
        "library yang dibutuhkan:\n",
        "\n",
        "*   datasets dari HuggingFace untuk memuat dataset Indonesia\n",
        "*   transformers untuk model dan tokenizer IndoBERT\n",
        "*   sklearn untuk menghitung metrik evaluasi,\n",
        "*   torch untuk representasi tensor saat inferensi nanti.\n",
        "\n",
        "Kita menggunakan dataset SMSA (Sentiment Analysis) dari IndoNLU. Dataset ini berisi kalimat dalam Bahasa Indonesia yang sudah diberi label sentimen:\n",
        "\n",
        "\n",
        "*   0: Negatif\n",
        "*   1: Netral\n",
        "*   2: Positif\n",
        "\n",
        "Tokenizer ini berasal dari model IndoBERT pre-trained (indobenchmark/indobert-base-p1). Tokenizer ini akan mengubah teks menjadi token yang dapat dipahami model transformer."
      ],
      "metadata": {
        "id": "N26anhgcDNi_"
      }
    },
    {
      "cell_type": "code",
      "source": [
        "# Fungsi tokenisasi\n",
        "def tokenize_batch(batch):\n",
        "    return tokenizer(batch[\"text\"], padding=\"max_length\", truncation=True, max_length=128)\n",
        "\n",
        "# Tokenisasi seluruh dataset\n",
        "tokenized = dataset.map(tokenize_batch, batched=True)\n",
        "\n",
        "# Rename kolom dan ubah format\n",
        "tokenized = tokenized.remove_columns([\"text\"])\n",
        "tokenized = tokenized.rename_column(\"label\", \"labels\")\n",
        "tokenized.set_format(\"torch\")\n",
        "\n",
        "# Split dataset\n",
        "train_dataset = tokenized[\"train\"]\n",
        "test_dataset = tokenized[\"validation\"]\n"
      ],
      "metadata": {
        "colab": {
          "base_uri": "https://localhost:8080/",
          "height": 49,
          "referenced_widgets": [
            "433bd7e947dd48c491d251c157834db6",
            "08db03971e6842c9bda37617f38f55b9",
            "5bcb8ad3bcc948cfaa66382f4a9e5319",
            "e9808edf2a0d495fb80fe04c8962b1ed",
            "1b245733e20c471f8dc82d07501a2155",
            "30ec5340562c433d9fbc508a791844b9",
            "9334ee3d86a84ebc9222ee82d09f0a06",
            "9aae346fc1a7458e8a671c6e9ecb856e",
            "db04a5aa29d344108da498606766c4a7",
            "1eecf7af2ccb4a028ead7cf8a8cbcbea",
            "db74d7b4cfd949418daaddbb90fbdbf7"
          ]
        },
        "id": "1tLwAUGN8W29",
        "outputId": "9b25b0aa-0953-4c98-f477-d66b46cdce3c"
      },
      "execution_count": 5,
      "outputs": [
        {
          "output_type": "display_data",
          "data": {
            "text/plain": [
              "Map:   0%|          | 0/11000 [00:00<?, ? examples/s]"
            ],
            "application/vnd.jupyter.widget-view+json": {
              "version_major": 2,
              "version_minor": 0,
              "model_id": "433bd7e947dd48c491d251c157834db6"
            }
          },
          "metadata": {}
        }
      ]
    },
    {
      "cell_type": "markdown",
      "source": [
        "Di sini kita melakukan beberapa langkah penting:\n",
        "*   Tokenisasi setiap kalimat, di-batch agar cepat.\n",
        "*   Menghapus kolom text karena tidak lagi dibutuhkan setelah tokenisasi.\n",
        "*   Mengganti nama kolom label ke labels, karena Trainer dari HuggingFace mengharuskan nama itu.\n",
        "*   mengubah dataset ke format PyTorch.\n",
        "Dataset dibagi menjadi dua:\n",
        "*   train_dataset: data untuk training model.\n",
        "*   test_dataset: data untuk evaluasi model. Kita ambil dari split validation, karena split test tidak menyediakan label."
      ],
      "metadata": {
        "id": "EtO5G1rYDsbu"
      }
    },
    {
      "cell_type": "code",
      "source": [
        "# Load model IndoBERT untuk klasifikasi (3 label: negatif, netral, positif)\n",
        "model = AutoModelForSequenceClassification.from_pretrained(\"indobenchmark/indobert-base-p1\", num_labels=3)\n",
        "\n",
        "# Fungsi evaluasi metrik\n",
        "def compute_metrics(eval_pred):\n",
        "    logits, labels = eval_pred\n",
        "    preds = logits.argmax(axis=-1)\n",
        "    precision, recall, f1, _ = precision_recall_fscore_support(labels, preds, average=\"macro\")\n",
        "    acc = accuracy_score(labels, preds)\n",
        "    return {\"accuracy\": acc, \"precision\": precision, \"recall\": recall, \"f1\": f1}\n"
      ],
      "metadata": {
        "colab": {
          "base_uri": "https://localhost:8080/",
          "height": 116,
          "referenced_widgets": [
            "1ee1a677690b4d5a8bc5ab56095b0d19",
            "84e5f44b0de34912b346d13a2c9fbfa6",
            "72df617d7ea145cf80382cbfa1db75e4",
            "328e60714cbf4525bcc0de7e8085b4f7",
            "e68eee3a77514335b69489369de8e2d2",
            "a970148a1f2a4e47a93480abd4762d14",
            "d61ab5b430104126a9962d0c843d9dba",
            "03116c2db34a4a5ca30807ae62b54cdd",
            "bf2bf18e1fbd4d0eb63c92e04574dbb3",
            "748f0d18d1e148ac95fab7e531c6bd7d",
            "27c8dd006dab4fee96019622f4e85342",
            "5cff5aea371343e6962a729e3d8f2535",
            "7cc7f1398ee74b28a484d7420a788e79",
            "15d9f20be6594daea1ab7035e03ba623",
            "c73e420e86c14ff687ff94d3308cd866",
            "b5af958721a84737be63f61a485c27f1",
            "098dc17c21514eecaf3de0d7cb74d5bb",
            "4acbaa3f7145431da32975eaa81bf6b7",
            "846a7a24c5254957b8597e8d6a4062f8",
            "ec51601b0beb4f9cb1da4ce6115214f3",
            "29d4eb719ee4480f933320f0e3a3c209",
            "cf552fab579e468d9473c6230c714f93"
          ]
        },
        "id": "DtQdraYI8yP-",
        "outputId": "2705d9cc-4df7-47c3-ddae-a125c64b281e"
      },
      "execution_count": 6,
      "outputs": [
        {
          "output_type": "display_data",
          "data": {
            "text/plain": [
              "pytorch_model.bin:   0%|          | 0.00/498M [00:00<?, ?B/s]"
            ],
            "application/vnd.jupyter.widget-view+json": {
              "version_major": 2,
              "version_minor": 0,
              "model_id": "1ee1a677690b4d5a8bc5ab56095b0d19"
            }
          },
          "metadata": {}
        },
        {
          "output_type": "display_data",
          "data": {
            "text/plain": [
              "model.safetensors:   0%|          | 0.00/498M [00:00<?, ?B/s]"
            ],
            "application/vnd.jupyter.widget-view+json": {
              "version_major": 2,
              "version_minor": 0,
              "model_id": "5cff5aea371343e6962a729e3d8f2535"
            }
          },
          "metadata": {}
        },
        {
          "output_type": "stream",
          "name": "stderr",
          "text": [
            "Some weights of BertForSequenceClassification were not initialized from the model checkpoint at indobenchmark/indobert-base-p1 and are newly initialized: ['classifier.bias', 'classifier.weight']\n",
            "You should probably TRAIN this model on a down-stream task to be able to use it for predictions and inference.\n"
          ]
        }
      ]
    },
    {
      "cell_type": "markdown",
      "source": [
        "Kita load model IndoBERT yang sudah pre-trained dan menambahkan head klasifikasi dengan 3 label.\n",
        "\n"
      ],
      "metadata": {
        "id": "c1C8m_QJE0Vp"
      }
    },
    {
      "cell_type": "markdown",
      "source": [
        "Fungsi **compute_metrics** ini digunakan untuk mengevaluasi performa model. Kita hitung:\n",
        "\n",
        "*   Akurasi\n",
        "*   Precision\n",
        "*   Recall\n",
        "*   F1 Score\n",
        "\n",
        "menggunakan strategi average macro karena jumlah data antar label bisa tidak seimbang."
      ],
      "metadata": {
        "id": "97BdDJDQE7M7"
      }
    },
    {
      "cell_type": "code",
      "source": [
        "# Konfigurasi training\n",
        "training_args = TrainingArguments(\n",
        "    output_dir=\"./results\",\n",
        "    eval_strategy=\"epoch\",\n",
        "    learning_rate=2e-5,\n",
        "    per_device_train_batch_size=8,\n",
        "    per_device_eval_batch_size=8,\n",
        "    num_train_epochs=2,\n",
        "    weight_decay=0.01,\n",
        ")\n",
        "\n",
        "# Inisialisasi Trainer\n",
        "trainer = Trainer(\n",
        "    model=model,\n",
        "    args=training_args,\n",
        "    train_dataset=train_dataset.select(range(2000)),  # Subset data kecil\n",
        "    eval_dataset=test_dataset.select(range(500)),\n",
        "    compute_metrics=compute_metrics,\n",
        ")\n"
      ],
      "metadata": {
        "id": "QY4cpasA85Ok"
      },
      "execution_count": 8,
      "outputs": []
    },
    {
      "cell_type": "markdown",
      "source": [
        "Kita atur hyperparameter seperti:\n",
        "\n",
        "*   Batch size\n",
        "*   Jumlah epoch (di sini hanya 2, agar cepat)\n",
        "*   Learning rate\n",
        "\n",
        "Kemudian kita buat objek Trainer yang otomatis menangani training, evaluasi, dan logging."
      ],
      "metadata": {
        "id": "E6nb1EzMFbSR"
      }
    },
    {
      "cell_type": "code",
      "source": [
        "# Training\n",
        "trainer.train()\n",
        "\n",
        "# Evaluasi hasil\n",
        "eval_results = trainer.evaluate()\n",
        "print(eval_results)\n"
      ],
      "metadata": {
        "colab": {
          "base_uri": "https://localhost:8080/",
          "height": 473
        },
        "id": "9CLihtDn9Si8",
        "outputId": "5d630c57-a0d8-46bb-a9e5-d6ebb797a3b3"
      },
      "execution_count": 9,
      "outputs": [
        {
          "output_type": "stream",
          "name": "stderr",
          "text": [
            "\u001b[34m\u001b[1mwandb\u001b[0m: \u001b[33mWARNING\u001b[0m The `run_name` is currently set to the same value as `TrainingArguments.output_dir`. If this was not intended, please specify a different run name by setting the `TrainingArguments.run_name` parameter.\n",
            "\u001b[34m\u001b[1mwandb\u001b[0m: Using wandb-core as the SDK backend.  Please refer to https://wandb.me/wandb-core for more information.\n"
          ]
        },
        {
          "output_type": "display_data",
          "data": {
            "text/plain": [
              "<IPython.core.display.Javascript object>"
            ],
            "application/javascript": [
              "\n",
              "        window._wandbApiKey = new Promise((resolve, reject) => {\n",
              "            function loadScript(url) {\n",
              "            return new Promise(function(resolve, reject) {\n",
              "                let newScript = document.createElement(\"script\");\n",
              "                newScript.onerror = reject;\n",
              "                newScript.onload = resolve;\n",
              "                document.body.appendChild(newScript);\n",
              "                newScript.src = url;\n",
              "            });\n",
              "            }\n",
              "            loadScript(\"https://cdn.jsdelivr.net/npm/postmate/build/postmate.min.js\").then(() => {\n",
              "            const iframe = document.createElement('iframe')\n",
              "            iframe.style.cssText = \"width:0;height:0;border:none\"\n",
              "            document.body.appendChild(iframe)\n",
              "            const handshake = new Postmate({\n",
              "                container: iframe,\n",
              "                url: 'https://wandb.ai/authorize'\n",
              "            });\n",
              "            const timeout = setTimeout(() => reject(\"Couldn't auto authenticate\"), 5000)\n",
              "            handshake.then(function(child) {\n",
              "                child.on('authorize', data => {\n",
              "                    clearTimeout(timeout)\n",
              "                    resolve(data)\n",
              "                });\n",
              "            });\n",
              "            })\n",
              "        });\n",
              "    "
            ]
          },
          "metadata": {}
        },
        {
          "output_type": "stream",
          "name": "stderr",
          "text": [
            "\u001b[34m\u001b[1mwandb\u001b[0m: Logging into wandb.ai. (Learn how to deploy a W&B server locally: https://wandb.me/wandb-server)\n",
            "\u001b[34m\u001b[1mwandb\u001b[0m: You can find your API key in your browser here: https://wandb.ai/authorize\n",
            "wandb: Paste an API key from your profile and hit enter:"
          ]
        },
        {
          "name": "stdout",
          "output_type": "stream",
          "text": [
            " ··········\n"
          ]
        },
        {
          "output_type": "stream",
          "name": "stderr",
          "text": [
            "\u001b[34m\u001b[1mwandb\u001b[0m: \u001b[33mWARNING\u001b[0m If you're specifying your api key in code, ensure this code is not shared publicly.\n",
            "\u001b[34m\u001b[1mwandb\u001b[0m: \u001b[33mWARNING\u001b[0m Consider setting the WANDB_API_KEY environment variable, or running `wandb login` from the command line.\n",
            "\u001b[34m\u001b[1mwandb\u001b[0m: No netrc file found, creating one.\n",
            "\u001b[34m\u001b[1mwandb\u001b[0m: Appending key for api.wandb.ai to your netrc file: /root/.netrc\n",
            "\u001b[34m\u001b[1mwandb\u001b[0m: Currently logged in as: \u001b[33mdreamweaver-main\u001b[0m (\u001b[33mdreamweaver-main-binus-university\u001b[0m) to \u001b[32mhttps://api.wandb.ai\u001b[0m. Use \u001b[1m`wandb login --relogin`\u001b[0m to force relogin\n"
          ]
        },
        {
          "output_type": "display_data",
          "data": {
            "text/plain": [
              "<IPython.core.display.HTML object>"
            ],
            "text/html": [
              "Tracking run with wandb version 0.19.9"
            ]
          },
          "metadata": {}
        },
        {
          "output_type": "display_data",
          "data": {
            "text/plain": [
              "<IPython.core.display.HTML object>"
            ],
            "text/html": [
              "Run data is saved locally in <code>/content/wandb/run-20250425_171851-zdpvlu6k</code>"
            ]
          },
          "metadata": {}
        },
        {
          "output_type": "display_data",
          "data": {
            "text/plain": [
              "<IPython.core.display.HTML object>"
            ],
            "text/html": [
              "Syncing run <strong><a href='https://wandb.ai/dreamweaver-main-binus-university/huggingface/runs/zdpvlu6k' target=\"_blank\">./results</a></strong> to <a href='https://wandb.ai/dreamweaver-main-binus-university/huggingface' target=\"_blank\">Weights & Biases</a> (<a href='https://wandb.me/developer-guide' target=\"_blank\">docs</a>)<br>"
            ]
          },
          "metadata": {}
        },
        {
          "output_type": "display_data",
          "data": {
            "text/plain": [
              "<IPython.core.display.HTML object>"
            ],
            "text/html": [
              " View project at <a href='https://wandb.ai/dreamweaver-main-binus-university/huggingface' target=\"_blank\">https://wandb.ai/dreamweaver-main-binus-university/huggingface</a>"
            ]
          },
          "metadata": {}
        },
        {
          "output_type": "display_data",
          "data": {
            "text/plain": [
              "<IPython.core.display.HTML object>"
            ],
            "text/html": [
              " View run at <a href='https://wandb.ai/dreamweaver-main-binus-university/huggingface/runs/zdpvlu6k' target=\"_blank\">https://wandb.ai/dreamweaver-main-binus-university/huggingface/runs/zdpvlu6k</a>"
            ]
          },
          "metadata": {}
        },
        {
          "output_type": "display_data",
          "data": {
            "text/plain": [
              "<IPython.core.display.HTML object>"
            ],
            "text/html": [
              "\n",
              "    <div>\n",
              "      \n",
              "      <progress value='500' max='500' style='width:300px; height:20px; vertical-align: middle;'></progress>\n",
              "      [500/500 1:45:45, Epoch 2/2]\n",
              "    </div>\n",
              "    <table border=\"1\" class=\"dataframe\">\n",
              "  <thead>\n",
              " <tr style=\"text-align: left;\">\n",
              "      <th>Epoch</th>\n",
              "      <th>Training Loss</th>\n",
              "      <th>Validation Loss</th>\n",
              "      <th>Accuracy</th>\n",
              "      <th>Precision</th>\n",
              "      <th>Recall</th>\n",
              "      <th>F1</th>\n",
              "    </tr>\n",
              "  </thead>\n",
              "  <tbody>\n",
              "    <tr>\n",
              "      <td>1</td>\n",
              "      <td>No log</td>\n",
              "      <td>0.203399</td>\n",
              "      <td>0.934000</td>\n",
              "      <td>0.910407</td>\n",
              "      <td>0.915465</td>\n",
              "      <td>0.912777</td>\n",
              "    </tr>\n",
              "    <tr>\n",
              "      <td>2</td>\n",
              "      <td>0.222800</td>\n",
              "      <td>0.208001</td>\n",
              "      <td>0.950000</td>\n",
              "      <td>0.934740</td>\n",
              "      <td>0.941273</td>\n",
              "      <td>0.937957</td>\n",
              "    </tr>\n",
              "  </tbody>\n",
              "</table><p>"
            ]
          },
          "metadata": {}
        },
        {
          "output_type": "display_data",
          "data": {
            "text/plain": [
              "<IPython.core.display.HTML object>"
            ],
            "text/html": [
              "\n",
              "    <div>\n",
              "      \n",
              "      <progress value='63' max='63' style='width:300px; height:20px; vertical-align: middle;'></progress>\n",
              "      [63/63 03:08]\n",
              "    </div>\n",
              "    "
            ]
          },
          "metadata": {}
        },
        {
          "output_type": "stream",
          "name": "stdout",
          "text": [
            "{'eval_loss': 0.20800091326236725, 'eval_accuracy': 0.95, 'eval_precision': 0.9347399072647079, 'eval_recall': 0.9412730127015841, 'eval_f1': 0.9379573831186735, 'eval_runtime': 191.2774, 'eval_samples_per_second': 2.614, 'eval_steps_per_second': 0.329, 'epoch': 2.0}\n"
          ]
        }
      ]
    },
    {
      "cell_type": "markdown",
      "source": [
        "Kita jalankan proses training dan evaluasi model. Hasilnya akan menampilkan metrik seperti akurasi dan F1 score."
      ],
      "metadata": {
        "id": "vIoaqX_uFoHl"
      }
    },
    {
      "cell_type": "code",
      "source": [
        "label_map = {0: \"Negative\", 1: \"Neutral\", 2: \"Positive\"}\n",
        "\n",
        "for sample in dataset[\"validation\"].select(range(5)):\n",
        "    inputs = tokenizer(sample[\"text\"], return_tensors=\"pt\", truncation=True, padding=True, max_length=128)\n",
        "    outputs = model(**inputs)\n",
        "    pred = torch.argmax(outputs.logits, dim=1).item()\n",
        "    print(sample[\"text\"][:100], \"... Prediction:\", label_map[pred])"
      ],
      "metadata": {
        "colab": {
          "base_uri": "https://localhost:8080/"
        },
        "id": "r5wJAeG7Fs7Z",
        "outputId": "5b20a7d7-2ed0-487c-d267-13987fb4bd3a"
      },
      "execution_count": 10,
      "outputs": [
        {
          "output_type": "stream",
          "name": "stdout",
          "text": [
            "meski masa kampanye sudah selesai , bukan berati habis pula upaya mengerek tingkat kedipilihan elekt ... Prediction: Neutral\n",
            "tidak enak ... Prediction: Positive\n",
            "restoran ini menawarkan makanan sunda . kami memesan ayam goreng , kangkung , sayur asam , ikan gura ... Prediction: Negative\n",
            "lokasi di alun alun masakan padang ini cukup terkenal dengan kepala ikan kakap gule , biasa saya pes ... Prediction: Negative\n",
            "betapa bejad kader gerindra yang anggota dprd mencabuli anak smp , rakyat harus cerdas partai mana y ... Prediction: Positive\n"
          ]
        }
      ]
    },
    {
      "cell_type": "markdown",
      "source": [
        "Berikut adalah analisis common error cases dan language-specific challenges saat menggunakan model BERT (IndoBERT) untuk analisis sentimen dalam Bahasa Indonesia:\n",
        "\n",
        "**Common Error Cases (Kesalahan Umum)**\n",
        "1. Prediksi Netral vs Positif/Negatif\n",
        "*   Banyak kasus di mana model memprediksi label \"Netral\" padahal secara konteks kalimat mengandung sentimen.\n",
        "Contoh:\n",
        "> \"Barangnya bagus, tapi pengiriman lama.\"\n",
        "\n",
        "> Kesalahan ini terjadi karena kalimat mengandung dua sentimen, dan model kesulitan mengambil dominan\n",
        "\n",
        "2.  Penggunaan Bahasa Gaul / Singkatan\n",
        "*   Model terkadang gagal memahami kata-kata gaul atau singkatan informal yang sering muncul di media sosial.\n",
        "*   Contoh:\n",
        "\n",
        "> \"dptnya cepet bgt padahal COD, top dah seller\"\n",
        "\n",
        "> Kata seperti \"dptnya\", \"bgt\", \"top dah\" bisa menyulitkan jika tidak muncul cukup sering dalam pretraining corpus.\n",
        "\n",
        "**Language-Specific Challenges (Tantangan Bahasa Spesifik Bahasa Indonesia**\n",
        "\n",
        "\n",
        "1.   Morfologi yang Fleksibel\n",
        "Bahasa Indonesia memiliki struktur morfologis yang fleksibel, misalnya prefiks/sufiks:\n",
        "\n",
        "> bermain, dimainkan, pemain — semuanya dari akar kata main. ➤ Ini bisa menyebabkan sparseness atau noise jika model tidak cukup peka terhadap morfologi.\n",
        "\n",
        "2. Kode-Mixing (Campuran Bahasa)\n",
        " mencampur Bahasa Indonesia dengan Bahasa Inggris:\n",
        "\n",
        "\n",
        "> \"Produknya oke sih, tapi shipping-nya slow banget.\"\n",
        "\n",
        "3. Data Ketidakseimbangan Label\n",
        "\n",
        "Seringkali jumlah label tidak seimbang (positif > netral > negatif), menyebabkan model bias terhadap mayoritas kelas."
      ],
      "metadata": {
        "id": "uwWGb8opFzzG"
      }
    },
    {
      "cell_type": "markdown",
      "source": [
        " Kita tampilkan sebagian isi teks beserta label prediksi model (Positive, Neutral, atau Negative)."
      ],
      "metadata": {
        "id": "ubpbbyjUFuCK"
      }
    },
    {
      "cell_type": "markdown",
      "source": [
        "Link Google Collab: https://colab.research.google.com/drive/1FZUj5UOURrWKcB0DyOf2BiLsjuw_XE4t?usp=sharing"
      ],
      "metadata": {
        "id": "vJ_oTLWgeGlx"
      }
    }
  ]
}